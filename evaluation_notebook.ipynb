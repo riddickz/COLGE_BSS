{
 "cells": [
  {
   "cell_type": "code",
   "execution_count": 1,
   "id": "ceac7c59",
   "metadata": {},
   "outputs": [],
   "source": [
    "import numpy as np\n",
    "import gurobipy as gp\n",
    "import torch\n",
    "\n",
    "import runner\n",
    "import agent\n",
    "\n",
    "from graph import Graph\n",
    "from bssrp_mip import BSSRPMIP\n",
    "from nn_heuristic import NearestNeighboursHeuristic\n",
    "\n",
    "from environment import Environment"
   ]
  },
  {
   "cell_type": "code",
   "execution_count": 2,
   "id": "825827b9",
   "metadata": {},
   "outputs": [
    {
     "name": "stdout",
     "output_type": "stream",
     "text": [
      "Set parameter Username\n"
     ]
    },
    {
     "name": "stderr",
     "output_type": "stream",
     "text": [
      "2021-11-27 14:27:37,197:INFO:Set parameter Username\n"
     ]
    },
    {
     "name": "stdout",
     "output_type": "stream",
     "text": [
      "Academic license - for non-commercial use only - expires 2022-01-25\n"
     ]
    },
    {
     "name": "stderr",
     "output_type": "stream",
     "text": [
      "2021-11-27 14:27:37,198:INFO:Academic license - for non-commercial use only - expires 2022-01-25\n"
     ]
    }
   ],
   "source": [
    "m = gp.Model()"
   ]
  },
  {
   "cell_type": "code",
   "execution_count": 3,
   "id": "c81ec39e",
   "metadata": {},
   "outputs": [],
   "source": [
    "tol = 1e-3"
   ]
  },
  {
   "cell_type": "code",
   "execution_count": 4,
   "id": "6b3814f3",
   "metadata": {},
   "outputs": [],
   "source": [
    "def demand_of_routes(routes, demands):\n",
    "    for i in range(len(routes)):\n",
    "        route = routes[i]\n",
    "        route_demand_order = list(map(lambda x: demands[x], route))\n",
    "        print(f\"Vehicle {i}:\")\n",
    "        print(\"    Route: \", route)\n",
    "        print(\"    Demand:\", route_demand_order)"
   ]
  },
  {
   "cell_type": "code",
   "execution_count": 5,
   "id": "68d3ebf9",
   "metadata": {},
   "outputs": [],
   "source": [
    "def eval_mip_sol_in_env(mip, g):\n",
    "    graph_dict = {0 : g}\n",
    "    env = Environment(graph_dict, \"test\", verbose=False)\n",
    "    \n",
    "    env.reset(0)\n",
    "\n",
    "    route_reward = {}\n",
    "    for i, route in mip.routes.items():\n",
    "        route_reward[i] = 0\n",
    "        if len(route) == 0:\n",
    "            continue\n",
    "\n",
    "        for a in route[1:]:\n",
    "            _, reward, done, _ = env.step(torch.tensor(a))\n",
    "            route_reward[i] += reward\n",
    "            if done:\n",
    "                break\n",
    "        if done:\n",
    "            break\n",
    "\n",
    "    total_reward = 0\n",
    "    for i, reward in route_reward.items():\n",
    "        total_reward += reward\n",
    "        \n",
    "    assert(np.abs(mip.model.objVal + total_reward) < tol)\n",
    "        \n",
    "    return total_reward.item()"
   ]
  },
  {
   "cell_type": "code",
   "execution_count": 6,
   "id": "1de81370",
   "metadata": {},
   "outputs": [],
   "source": [
    "def eval_nn_in_env(nn, g):\n",
    "    graph_dict = {0 : g}\n",
    "    env = Environment(graph_dict, \"test\", verbose=False)\n",
    "    \n",
    "    env.reset(0)\n",
    "    \n",
    "    route_reward = {}\n",
    "    for i, route in enumerate(nn.routes):\n",
    "        route_reward[i] = 0\n",
    "        if len(route) == 0:\n",
    "            continue\n",
    "\n",
    "        for a in route[1:]:\n",
    "            _, reward, done, _ = env.step(torch.tensor(a))\n",
    "            route_reward[i] += reward\n",
    "            if done:\n",
    "                break\n",
    "        if done:\n",
    "            break\n",
    "\n",
    "    total_reward = 0\n",
    "    for i, reward in route_reward.items():\n",
    "        total_reward += reward\n",
    "        \n",
    "    return total_reward.item()"
   ]
  },
  {
   "cell_type": "code",
   "execution_count": 7,
   "id": "68d76602",
   "metadata": {},
   "outputs": [],
   "source": [
    "def eval_agent_in_env(rl_agent, g, max_iters = 10000):\n",
    "    \n",
    "    graph_dict = {0 : g}\n",
    "    env = Environment(graph_dict, \"test\", verbose=False)\n",
    "    rl_runner = runner.Runner(env, rl_agent)\n",
    "    reward, route = rl_runner.validate(0, max_iters, verbose=False, return_route=True)\n",
    "    \n",
    "    # get routes for each vehicle\n",
    "    routes = []\n",
    "    routes.append([0])\n",
    "    route_num = 0\n",
    "    for i in route[1:-1]:\n",
    "        if i != 0:\n",
    "            routes[route_num].append(i)\n",
    "        else:\n",
    "            routes[route_num].append(0)\n",
    "            route_num += 1\n",
    "            routes.append([0])\n",
    "    routes[route_num].append(0)\n",
    "\n",
    "    return reward, routes"
   ]
  },
  {
   "cell_type": "code",
   "execution_count": 8,
   "id": "ff6eba5b",
   "metadata": {},
   "outputs": [],
   "source": [
    "def evaluate(g, n_instances, seed, agent_path=\"tr_model.pt\"):\n",
    "    \n",
    "    g.seed(seed)\n",
    "    results = {\n",
    "        \"mip\" : {\n",
    "            \"routes\" : [],\n",
    "            \"cost\" : [],\n",
    "        },\n",
    "        \"nn\" : {\n",
    "            \"routes\" : [],\n",
    "            \"cost\" : [],\n",
    "        },\n",
    "        \"rl\" : {\n",
    "            \"routes\" : [],\n",
    "            \"cost\" : [],\n",
    "        }\n",
    "    }\n",
    "    \n",
    "    rl_agent = agent.Agent('GATv2', 0)\n",
    "    rl_agent.load_model(agent_path)\n",
    "    \n",
    "    for i in range(n_instances):\n",
    "        \n",
    "        if (i+1) % 10 == 0:\n",
    "            print(f\"Instance: {i+1}/{n_instances}\")\n",
    "        \n",
    "        g.bss_graph_gen()\n",
    "        \n",
    "        # get MIP routes/reward\n",
    "        mip = BSSRPMIP(g, use_penalties=True, no_bikes_leaving=True)\n",
    "        mip.optimize()\n",
    "        mip_routes = mip.get_minimal_routes()#list(mip.routes.values())\n",
    "        mip_reward = eval_mip_sol_in_env(mip, g)\n",
    "        results[\"mip\"][\"routes\"].append(mip_routes)\n",
    "        results[\"mip\"][\"cost\"].append(mip_reward)\n",
    "        \n",
    "        # get NN routes/reward\n",
    "        nn = NearestNeighboursHeuristic(g)\n",
    "        nn_routes = nn.run()\n",
    "        nn_reward = eval_nn_in_env(nn, g)\n",
    "        results[\"nn\"][\"routes\"].append(nn_routes)\n",
    "        results[\"nn\"][\"cost\"].append(nn_reward)\n",
    "        \n",
    "        # get RL routes/reward\n",
    "        rl_reward, rl_route = eval_agent_in_env(rl_agent, g)\n",
    "        results[\"rl\"][\"routes\"].append(rl_route)\n",
    "        results[\"rl\"][\"cost\"].append(rl_reward)\n",
    "        \n",
    "    return results\n",
    "    "
   ]
  },
  {
   "cell_type": "markdown",
   "id": "8cb3319e",
   "metadata": {},
   "source": [
    "### Generate Graph"
   ]
  },
  {
   "cell_type": "code",
   "execution_count": 9,
   "id": "9134a5a3",
   "metadata": {},
   "outputs": [],
   "source": [
    "seed = 12343"
   ]
  },
  {
   "cell_type": "code",
   "execution_count": 10,
   "id": "0245ff93",
   "metadata": {},
   "outputs": [],
   "source": [
    "use_penalties = True\n",
    "no_bikes_leaving = True"
   ]
  },
  {
   "cell_type": "code",
   "execution_count": 11,
   "id": "ebc80c78",
   "metadata": {},
   "outputs": [],
   "source": [
    "num_nodes = 10\n",
    "num_vehicles = 5\n",
    "time_limit = 30\n",
    "\n",
    "penalty_cost_demand = 2\n",
    "penalty_cost_time = 5\n",
    "bike_load_time = 0\n",
    "\n",
    "speed = 30 "
   ]
  },
  {
   "cell_type": "code",
   "execution_count": 12,
   "id": "9ffef99d",
   "metadata": {},
   "outputs": [],
   "source": [
    "g = Graph(\n",
    "        num_nodes = num_nodes, \n",
    "        k_nn = 2, \n",
    "        num_vehicles = num_vehicles,\n",
    "        penalty_cost_demand = penalty_cost_demand,\n",
    "        penalty_cost_time = penalty_cost_time, \n",
    "        speed = speed,\n",
    "        bike_load_time=bike_load_time,\n",
    "        time_limit = time_limit)"
   ]
  },
  {
   "cell_type": "markdown",
   "id": "f1cf39e2",
   "metadata": {},
   "source": [
    "### Evaluate"
   ]
  },
  {
   "cell_type": "code",
   "execution_count": 13,
   "id": "41e30bd0",
   "metadata": {},
   "outputs": [],
   "source": [
    "n_instances = 1000"
   ]
  },
  {
   "cell_type": "code",
   "execution_count": 14,
   "id": "8aab0aaa",
   "metadata": {},
   "outputs": [
    {
     "name": "stdout",
     "output_type": "stream",
     "text": [
      "Instance: 10/1000\n",
      "Instance: 20/1000\n",
      "Instance: 30/1000\n",
      "Instance: 40/1000\n",
      "Instance: 50/1000\n",
      "Instance: 60/1000\n",
      "Instance: 70/1000\n",
      "Instance: 80/1000\n",
      "Instance: 90/1000\n",
      "Instance: 100/1000\n",
      "Instance: 110/1000\n",
      "Instance: 120/1000\n",
      "Instance: 130/1000\n",
      "Instance: 140/1000\n",
      "Instance: 150/1000\n",
      "Instance: 160/1000\n",
      "Instance: 170/1000\n",
      "Instance: 180/1000\n",
      "Instance: 190/1000\n",
      "Instance: 200/1000\n",
      "Instance: 210/1000\n",
      "Instance: 220/1000\n",
      "Instance: 230/1000\n",
      "Instance: 240/1000\n",
      "Instance: 250/1000\n",
      "Instance: 260/1000\n",
      "Instance: 270/1000\n",
      "Instance: 280/1000\n",
      "Instance: 290/1000\n",
      "Instance: 300/1000\n",
      "Instance: 310/1000\n",
      "Instance: 320/1000\n",
      "Instance: 330/1000\n",
      "Instance: 340/1000\n",
      "Instance: 350/1000\n",
      "Instance: 360/1000\n",
      "Instance: 370/1000\n",
      "Instance: 380/1000\n",
      "Instance: 390/1000\n",
      "Instance: 400/1000\n",
      "Instance: 410/1000\n",
      "Instance: 420/1000\n",
      "Instance: 430/1000\n",
      "Instance: 440/1000\n",
      "Instance: 450/1000\n",
      "Instance: 460/1000\n",
      "Instance: 470/1000\n",
      "Instance: 480/1000\n",
      "Instance: 490/1000\n",
      "Instance: 500/1000\n",
      "Instance: 510/1000\n",
      "Instance: 520/1000\n",
      "Instance: 530/1000\n",
      "Instance: 540/1000\n",
      "Instance: 550/1000\n",
      "Instance: 560/1000\n",
      "Instance: 570/1000\n",
      "Instance: 580/1000\n",
      "Instance: 590/1000\n",
      "Instance: 600/1000\n",
      "Instance: 610/1000\n",
      "Instance: 620/1000\n",
      "Instance: 630/1000\n",
      "Instance: 640/1000\n",
      "Instance: 650/1000\n",
      "Instance: 660/1000\n",
      "Instance: 670/1000\n",
      "Instance: 680/1000\n",
      "Instance: 690/1000\n",
      "Instance: 700/1000\n",
      "Instance: 710/1000\n",
      "Instance: 720/1000\n",
      "Instance: 730/1000\n",
      "Instance: 740/1000\n",
      "Instance: 750/1000\n",
      "Instance: 760/1000\n",
      "Instance: 770/1000\n",
      "Instance: 780/1000\n",
      "Instance: 790/1000\n",
      "Instance: 800/1000\n",
      "Instance: 810/1000\n",
      "Instance: 820/1000\n",
      "Instance: 830/1000\n",
      "Instance: 840/1000\n",
      "Instance: 850/1000\n",
      "Instance: 860/1000\n",
      "Instance: 870/1000\n",
      "Instance: 880/1000\n",
      "Instance: 890/1000\n",
      "Instance: 900/1000\n",
      "Instance: 910/1000\n",
      "Instance: 920/1000\n",
      "Instance: 930/1000\n",
      "Instance: 940/1000\n",
      "Instance: 950/1000\n",
      "Instance: 960/1000\n",
      "Instance: 970/1000\n",
      "Instance: 980/1000\n",
      "Instance: 990/1000\n",
      "Instance: 1000/1000\n"
     ]
    }
   ],
   "source": [
    "results = evaluate(g, n_instances, seed)"
   ]
  },
  {
   "cell_type": "code",
   "execution_count": 15,
   "id": "b1c52dd6",
   "metadata": {},
   "outputs": [
    {
     "name": "stdout",
     "output_type": "stream",
     "text": [
      "MIP mean reward: -146.99421950531007\n",
      "NN mean reward: -277.1387175827026\n",
      "RL mean reward: -243.80993399062007\n"
     ]
    }
   ],
   "source": [
    "print(\"MIP mean reward:\", np.mean(results[\"mip\"][\"cost\"]))\n",
    "print(\"NN mean reward:\", np.mean(results[\"nn\"][\"cost\"]))\n",
    "print(\"RL mean reward:\", np.mean(results[\"rl\"][\"cost\"]))"
   ]
  },
  {
   "cell_type": "code",
   "execution_count": null,
   "id": "edaf71f7",
   "metadata": {},
   "outputs": [],
   "source": []
  },
  {
   "cell_type": "code",
   "execution_count": null,
   "id": "8f8eb35d",
   "metadata": {},
   "outputs": [],
   "source": []
  },
  {
   "cell_type": "code",
   "execution_count": null,
   "id": "dc5e41ae",
   "metadata": {},
   "outputs": [],
   "source": []
  },
  {
   "cell_type": "code",
   "execution_count": null,
   "id": "f2fc27e1",
   "metadata": {},
   "outputs": [],
   "source": []
  },
  {
   "cell_type": "code",
   "execution_count": null,
   "id": "843ab105",
   "metadata": {},
   "outputs": [],
   "source": []
  },
  {
   "cell_type": "code",
   "execution_count": null,
   "id": "447091aa",
   "metadata": {},
   "outputs": [],
   "source": []
  },
  {
   "cell_type": "code",
   "execution_count": null,
   "id": "8d53f3e7",
   "metadata": {},
   "outputs": [],
   "source": []
  },
  {
   "cell_type": "code",
   "execution_count": null,
   "id": "39b926c3",
   "metadata": {},
   "outputs": [],
   "source": []
  }
 ],
 "metadata": {
  "kernelspec": {
   "display_name": "Python 3 (ipykernel)",
   "language": "python",
   "name": "python3"
  },
  "language_info": {
   "codemirror_mode": {
    "name": "ipython",
    "version": 3
   },
   "file_extension": ".py",
   "mimetype": "text/x-python",
   "name": "python",
   "nbconvert_exporter": "python",
   "pygments_lexer": "ipython3",
   "version": "3.8.12"
  }
 },
 "nbformat": 4,
 "nbformat_minor": 5
}
