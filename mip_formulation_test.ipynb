{
 "cells": [
  {
   "cell_type": "code",
   "execution_count": 1,
   "id": "ceac7c59",
   "metadata": {},
   "outputs": [],
   "source": [
    "import numpy as np\n",
    "import gurobipy as gp\n",
    "\n",
    "from graph import Graph\n",
    "from bssrp_mip import BSSRPMIP\n",
    "from scipy.spatial.distance import pdist, squareform"
   ]
  },
  {
   "cell_type": "markdown",
   "id": "8cb3319e",
   "metadata": {},
   "source": [
    "### Generate Graph"
   ]
  },
  {
   "cell_type": "code",
   "execution_count": 2,
   "id": "9134a5a3",
   "metadata": {},
   "outputs": [],
   "source": [
    "seed = 1234"
   ]
  },
  {
   "cell_type": "code",
   "execution_count": 3,
   "id": "0245ff93",
   "metadata": {},
   "outputs": [],
   "source": [
    "use_penalties = True"
   ]
  },
  {
   "cell_type": "code",
   "execution_count": 4,
   "id": "ebc80c78",
   "metadata": {},
   "outputs": [],
   "source": [
    "num_nodes = 20\n",
    "num_vehicles = 3\n",
    "time_limit = 60\n",
    "\n",
    "penalty_cost_demand = 1\n",
    "penalty_cost_time = 1\n",
    "\n",
    "speed = 30 "
   ]
  },
  {
   "cell_type": "code",
   "execution_count": 5,
   "id": "9ffef99d",
   "metadata": {},
   "outputs": [],
   "source": [
    "g = Graph(\n",
    "        num_nodes = num_nodes, \n",
    "        k_nn = 2, \n",
    "        num_vehicles = num_vehicles,\n",
    "        penalty_cost_demand = penalty_cost_demand,\n",
    "        penalty_cost_time = penalty_cost_time, \n",
    "        speed = speed,\n",
    "        time_limit = time_limit)"
   ]
  },
  {
   "cell_type": "code",
   "execution_count": 6,
   "id": "5cfca29b",
   "metadata": {},
   "outputs": [],
   "source": [
    "g.seed(seed)"
   ]
  },
  {
   "cell_type": "code",
   "execution_count": 7,
   "id": "62ee1c84",
   "metadata": {},
   "outputs": [],
   "source": [
    "g.bss_graph_gen()"
   ]
  },
  {
   "cell_type": "markdown",
   "id": "fc86cd72",
   "metadata": {},
   "source": [
    "### Initialize MIP"
   ]
  },
  {
   "cell_type": "code",
   "execution_count": 8,
   "id": "d5411635",
   "metadata": {},
   "outputs": [
    {
     "name": "stdout",
     "output_type": "stream",
     "text": [
      "Set parameter Username\n",
      "Academic license - for non-commercial use only - expires 2022-01-15\n",
      "Set parameter TimeLimit to value 100000\n"
     ]
    }
   ],
   "source": [
    "mip = BSSRPMIP(g, use_penalties=use_penalties)"
   ]
  },
  {
   "cell_type": "code",
   "execution_count": 9,
   "id": "22f90dc2",
   "metadata": {},
   "outputs": [
    {
     "name": "stdout",
     "output_type": "stream",
     "text": [
      "Gurobi Optimizer version 9.5.0 build v9.5.0rc5 (linux64)\n",
      "Thread count: 8 physical cores, 16 logical processors, using up to 16 threads\n",
      "Optimize a model with 2594 rows, 3594 columns and 12828 nonzeros\n",
      "Model fingerprint: 0x949d9a42\n",
      "Variable types: 117 continuous, 3477 integer (1197 binary)\n",
      "Coefficient statistics:\n",
      "  Matrix range     [4e-01, 2e+01]\n",
      "  Objective range  [4e-01, 2e+01]\n",
      "  Bounds range     [1e+00, 1e+00]\n",
      "  RHS range        [1e+00, 6e+01]\n",
      "Presolve removed 114 rows and 57 columns\n",
      "Presolve time: 0.01s\n",
      "Presolved: 2480 rows, 3537 columns, 12600 nonzeros\n",
      "Variable types: 117 continuous, 3420 integer (1197 binary)\n",
      "Found heuristic solution: objective 457.3749408\n",
      "Found heuristic solution: objective 449.2443544\n",
      "\n",
      "Root relaxation: objective 7.056093e+01, 4236 iterations, 0.17 seconds (0.26 work units)\n",
      "\n",
      "    Nodes    |    Current Node    |     Objective Bounds      |     Work\n",
      " Expl Unexpl |  Obj  Depth IntInf | Incumbent    BestBd   Gap | It/Node Time\n",
      "\n",
      "     0     0   70.56093    0  202  449.24435   70.56093  84.3%     -    0s\n",
      "H    0     0                     187.0214000   70.56093  62.3%     -    0s\n",
      "H    0     0                     177.0214000   70.56093  60.1%     -    0s\n",
      "H    0     0                     160.3783191   70.56093  56.0%     -    0s\n",
      "     0     0   70.56461    0  204  160.37832   70.56461  56.0%     -    0s\n",
      "H    0     0                     159.1680721   70.56484  55.7%     -    0s\n",
      "     0     0   70.56484    0  199  159.16807   70.56484  55.7%     -    0s\n",
      "     0     0   71.59551    0  214  159.16807   71.59551  55.0%     -    0s\n",
      "H    0     0                     137.6248496   71.59551  48.0%     -    0s\n",
      "     0     0   71.67661    0  278  137.62485   71.67661  47.9%     -    0s\n",
      "     0     0   71.67661    0  281  137.62485   71.67661  47.9%     -    0s\n",
      "H    0     0                     129.3872319   71.67661  44.6%     -    0s\n",
      "     0     0   73.27524    0  321  129.38723   73.27524  43.4%     -    1s\n",
      "     0     0   73.34092    0  294  129.38723   73.34092  43.3%     -    1s\n",
      "     0     0   73.34564    0  266  129.38723   73.34564  43.3%     -    1s\n",
      "H    0     0                     110.6378315   73.34567  33.7%     -    1s\n",
      "H    0     0                      91.9871113   73.34567  20.3%     -    1s\n",
      "     0     0   73.34567    0  268   91.98711   73.34567  20.3%     -    1s\n",
      "     0     0   73.58345    0  242   91.98711   73.58345  20.0%     -    1s\n",
      "     0     0   73.59607    0  266   91.98711   73.59607  20.0%     -    1s\n",
      "     0     0   73.60323    0  345   91.98711   73.60323  20.0%     -    1s\n",
      "     0     0   73.60763    0  283   91.98711   73.60763  20.0%     -    1s\n",
      "     0     0   73.60763    0  286   91.98711   73.60763  20.0%     -    1s\n",
      "     0     0   73.76431    0  365   91.98711   73.76431  19.8%     -    1s\n",
      "     0     0   73.77328    0  383   91.98711   73.77328  19.8%     -    1s\n",
      "     0     0   73.77548    0  392   91.98711   73.77548  19.8%     -    1s\n",
      "     0     0   73.77548    0  396   91.98711   73.77548  19.8%     -    1s\n",
      "     0     0   73.78778    0  403   91.98711   73.78778  19.8%     -    1s\n",
      "     0     0   73.78778    0  385   91.98711   73.78778  19.8%     -    1s\n",
      "     0     0   73.79266    0  372   91.98711   73.79266  19.8%     -    1s\n",
      "     0     0   73.79303    0  395   91.98711   73.79303  19.8%     -    1s\n",
      "     0     0   73.79321    0  406   91.98711   73.79321  19.8%     -    1s\n",
      "     0     0   73.79321    0  339   91.98711   73.79321  19.8%     -    1s\n",
      "     0     2   73.84575    0  339   91.98711   73.84575  19.7%     -    1s\n",
      "H   68    77                      90.5390516   75.20426  16.9%   462    3s\n",
      "H  207   217                      90.3858088   75.20426  16.8%   272    3s\n",
      "H  397   389                      89.7804000   75.20426  16.2%   198    4s\n",
      "*  440   412              65      89.1667474   75.20426  15.7%   188    4s\n",
      "   672   657   80.80111    7  308   89.16675   75.33470  15.5%   158    5s\n",
      "  1530  1089   84.96099   73  427   89.16675   76.68285  14.0%   138   10s\n",
      "H 1552  1048                      89.0727794   76.68285  13.9%   136   13s\n",
      "  1557  1051   78.59877    9  481   89.07278   76.68285  13.9%   135   15s\n",
      "  1588  1086   79.46019   19  284   89.07278   77.04706  13.5%   175   20s\n",
      "  2652  1172   83.90456   27  243   89.07278   77.24014  13.3%   174   25s\n",
      "  4132  1223   85.94746   24  271   89.07278   80.74005  9.35%   160   30s\n",
      "  5395  1480   87.24144   29  193   89.07278   83.42424  6.34%   152   35s\n",
      "  7314  2025   85.44142   25  279   89.07278   84.48083  5.16%   138   40s\n",
      " 11230  2259     cutoff   55        89.07278   86.04252  3.40%   118   45s\n",
      "*12365  2140              42      88.8412058   86.34223  2.81%   113   46s\n",
      "\n",
      "Cutting planes:\n",
      "  Gomory: 14\n",
      "  Cover: 13\n",
      "  Implied bound: 133\n",
      "  Projected implied bound: 9\n",
      "  MIR: 303\n",
      "  StrongCG: 3\n",
      "  Flow cover: 602\n",
      "  GUB cover: 2\n",
      "  Inf proof: 2\n",
      "  Zero half: 4\n",
      "  Network: 19\n",
      "  RLT: 2\n",
      "  Relax-and-lift: 34\n",
      "\n",
      "Explored 16354 nodes (1590449 simplex iterations) in 48.89 seconds (55.49 work units)\n",
      "Thread count was 16 (of 16 available processors)\n",
      "\n",
      "Solution count 10: 88.8412 89.0728 89.1667 ... 137.625\n",
      "\n",
      "Optimal solution found (tolerance 1.00e-04)\n",
      "Best objective 8.884120575428e+01, best bound 8.884120575428e+01, gap 0.0000%\n"
     ]
    }
   ],
   "source": [
    "mip.optimize()"
   ]
  },
  {
   "cell_type": "code",
   "execution_count": 10,
   "id": "27b413c6",
   "metadata": {},
   "outputs": [
    {
     "name": "stdout",
     "output_type": "stream",
     "text": [
      "Vehicle 0:\n",
      "    Route: [0, 1, 9, 4, 12, 17, 6, 15, 2, 16, 8, 11, 0]\n",
      "    Cost: 62.47470374586766 \n",
      "\n",
      "Vehicle 1:\n",
      "    Route: [0, 14, 5, 7, 10, 13, 19, 18, 3, 0]\n",
      "    Cost: 23.891798262547507 \n",
      "\n",
      "Vehicle 2:\n",
      "    Route: []\n",
      "    Cost: 0 \n",
      "\n"
     ]
    }
   ],
   "source": [
    "mip.print_routes()"
   ]
  },
  {
   "cell_type": "code",
   "execution_count": null,
   "id": "91bb1089",
   "metadata": {},
   "outputs": [],
   "source": []
  },
  {
   "cell_type": "code",
   "execution_count": null,
   "id": "61ffd1e4",
   "metadata": {},
   "outputs": [],
   "source": []
  }
 ],
 "metadata": {
  "kernelspec": {
   "display_name": "Python 3 (ipykernel)",
   "language": "python",
   "name": "python3"
  },
  "language_info": {
   "codemirror_mode": {
    "name": "ipython",
    "version": 3
   },
   "file_extension": ".py",
   "mimetype": "text/x-python",
   "name": "python",
   "nbconvert_exporter": "python",
   "pygments_lexer": "ipython3",
   "version": "3.8.12"
  }
 },
 "nbformat": 4,
 "nbformat_minor": 5
}
