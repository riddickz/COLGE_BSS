{
 "cells": [
  {
   "cell_type": "code",
   "execution_count": 16,
   "id": "ceac7c59",
   "metadata": {},
   "outputs": [],
   "source": [
    "import numpy as np\n",
    "import gurobipy as gp\n",
    "import torch\n",
    "\n",
    "from graph import Graph\n",
    "from bssrp_mip import BSSRPMIP\n",
    "from nn_heuristic import NearestNeighboursHeuristic\n",
    "\n",
    "from environment import Environment"
   ]
  },
  {
   "cell_type": "code",
   "execution_count": 17,
   "id": "c81ec39e",
   "metadata": {},
   "outputs": [],
   "source": [
    "tol = 1e-5"
   ]
  },
  {
   "cell_type": "code",
   "execution_count": 18,
   "id": "6b3814f3",
   "metadata": {},
   "outputs": [],
   "source": [
    "def demand_of_routes(mip):\n",
    "    for i in range(len(mip.routes)):\n",
    "        route = mip.routes[i]\n",
    "        route_demand_order = list(map(lambda x: mip.demands[x], route))\n",
    "        print(f\"Vehicle {i}:\")\n",
    "        print(\"    Route: \", route)\n",
    "        print(\"    Demand:\", route_demand_order)"
   ]
  },
  {
   "cell_type": "code",
   "execution_count": 19,
   "id": "68d3ebf9",
   "metadata": {},
   "outputs": [],
   "source": [
    "def eval_mip_sol_in_env(mip, g):\n",
    "    graph_dict = {0 : g}\n",
    "    env = Environment(graph_dict, \"test\")\n",
    "    \n",
    "    env.reset(0)\n",
    "\n",
    "    route_reward = {}\n",
    "    for i, route in mip.routes.items():\n",
    "        route_reward[i] = 0\n",
    "        if len(route) == 0:\n",
    "            continue\n",
    "\n",
    "        for a in route[1:]:\n",
    "            _, reward, done, _ = env.step(torch.tensor(a))\n",
    "            route_reward[i] += reward\n",
    "            if done:\n",
    "                break\n",
    "        if done:\n",
    "            break\n",
    "\n",
    "    total_reward = 0\n",
    "    for i, reward in route_reward.items():\n",
    "        total_reward += reward\n",
    "        \n",
    "        \n",
    "    print(f\"MIP Obj: {mip.model.objVal}, MDP reward: {total_reward}\")"
   ]
  },
  {
   "cell_type": "code",
   "execution_count": 20,
   "id": "1de81370",
   "metadata": {},
   "outputs": [],
   "source": [
    "def eval_nn_in_env(g):\n",
    "    graph_dict = {0 : g}\n",
    "    env = Environment(graph_dict, \"test\")\n",
    "    \n",
    "    env.reset(0)\n",
    "    \n",
    "    nn = NearestNeighboursHeuristic(g)\n",
    "    routes = nn.run()\n",
    "    \n",
    "    route_reward = {}\n",
    "    for i, route in enumerate(routes):\n",
    "        route_reward[i] = 0\n",
    "        if len(route) == 0:\n",
    "            continue\n",
    "\n",
    "        for a in route[1:]:\n",
    "            _, reward, done, _ = env.step(torch.tensor(a))\n",
    "            route_reward[i] += reward\n",
    "            if done:\n",
    "                break\n",
    "        if done:\n",
    "            break\n",
    "\n",
    "    total_reward = 0\n",
    "    for i, reward in route_reward.items():\n",
    "        total_reward += reward\n",
    "        \n",
    "        \n",
    "    print(f\"NN Reward: {total_reward}\")"
   ]
  },
  {
   "cell_type": "markdown",
   "id": "8cb3319e",
   "metadata": {},
   "source": [
    "### Generate Graph"
   ]
  },
  {
   "cell_type": "code",
   "execution_count": 21,
   "id": "9134a5a3",
   "metadata": {},
   "outputs": [],
   "source": [
    "seed = 12343"
   ]
  },
  {
   "cell_type": "code",
   "execution_count": 22,
   "id": "0245ff93",
   "metadata": {},
   "outputs": [],
   "source": [
    "use_penalties = True\n",
    "no_bikes_leaving = True"
   ]
  },
  {
   "cell_type": "code",
   "execution_count": 23,
   "id": "ebc80c78",
   "metadata": {},
   "outputs": [],
   "source": [
    "num_nodes = 10\n",
    "num_vehicles = 3\n",
    "time_limit = 30\n",
    "\n",
    "penalty_cost_demand = 2\n",
    "penalty_cost_time = 5\n",
    "bike_load_time = 0\n",
    "\n",
    "speed = 30 "
   ]
  },
  {
   "cell_type": "code",
   "execution_count": 24,
   "id": "9ffef99d",
   "metadata": {},
   "outputs": [],
   "source": [
    "g = Graph(\n",
    "        num_nodes = num_nodes, \n",
    "        k_nn = 2, \n",
    "        num_vehicles = num_vehicles,\n",
    "        penalty_cost_demand = penalty_cost_demand,\n",
    "        penalty_cost_time = penalty_cost_time, \n",
    "        speed = speed,\n",
    "        bike_load_time=bike_load_time,\n",
    "        time_limit = time_limit)"
   ]
  },
  {
   "cell_type": "code",
   "execution_count": 25,
   "id": "5cfca29b",
   "metadata": {},
   "outputs": [],
   "source": [
    "g.seed(seed)"
   ]
  },
  {
   "cell_type": "code",
   "execution_count": 26,
   "id": "62ee1c84",
   "metadata": {},
   "outputs": [],
   "source": [
    "g.bss_graph_gen()"
   ]
  },
  {
   "cell_type": "markdown",
   "id": "fc86cd72",
   "metadata": {},
   "source": [
    "### Initialize MIP"
   ]
  },
  {
   "cell_type": "code",
   "execution_count": 27,
   "id": "d5411635",
   "metadata": {},
   "outputs": [
    {
     "name": "stdout",
     "output_type": "stream",
     "text": [
      "Set parameter TimeLimit to value 100000\n"
     ]
    }
   ],
   "source": [
    "mip = BSSRPMIP(g, use_penalties=use_penalties, no_bikes_leaving=no_bikes_leaving)\n",
    "mip.model.setParam('OutputFlag', 0)"
   ]
  },
  {
   "cell_type": "code",
   "execution_count": 28,
   "id": "22f90dc2",
   "metadata": {},
   "outputs": [],
   "source": [
    "mip.optimize()"
   ]
  },
  {
   "cell_type": "code",
   "execution_count": 29,
   "id": "ac6c122c",
   "metadata": {},
   "outputs": [
    {
     "name": "stdout",
     "output_type": "stream",
     "text": [
      "Tour:  [0, 1, 3, 9, 0, 2, 5, 6, 7, 4, 8, 0]\n",
      "Tour Time:  83.84409916710437\n",
      "Left Demand:  tensor(0.)\n",
      "Node Visits:  12\n",
      "Games Finished:  0\n",
      "####################################################################################################\n",
      "MIP Obj: 224.2723007894944, MDP reward: -224.2722930908203\n"
     ]
    }
   ],
   "source": [
    "eval_mip_sol_in_env(mip, g)"
   ]
  },
  {
   "cell_type": "code",
   "execution_count": 30,
   "id": "70bc46db",
   "metadata": {},
   "outputs": [
    {
     "name": "stdout",
     "output_type": "stream",
     "text": [
      "Tour:  [0, 1, 2, 5, 0, 3, 6, 0, 7, 0, 9, 8, 0, 4, 0]\n",
      "Tour Time:  190.19088433251957\n",
      "Left Demand:  tensor(-5.)\n",
      "Node Visits:  15\n",
      "Games Finished:  0\n",
      "####################################################################################################\n",
      "NN Reward: -470.7091369628906\n"
     ]
    }
   ],
   "source": [
    "eval_nn_in_env(g)"
   ]
  },
  {
   "cell_type": "code",
   "execution_count": null,
   "id": "2582a207",
   "metadata": {},
   "outputs": [],
   "source": []
  },
  {
   "cell_type": "code",
   "execution_count": null,
   "id": "edaf71f7",
   "metadata": {},
   "outputs": [],
   "source": []
  },
  {
   "cell_type": "code",
   "execution_count": null,
   "id": "8f8eb35d",
   "metadata": {},
   "outputs": [],
   "source": []
  }
 ],
 "metadata": {
  "kernelspec": {
   "display_name": "Python 3 (ipykernel)",
   "language": "python",
   "name": "python3"
  },
  "language_info": {
   "codemirror_mode": {
    "name": "ipython",
    "version": 3
   },
   "file_extension": ".py",
   "mimetype": "text/x-python",
   "name": "python",
   "nbconvert_exporter": "python",
   "pygments_lexer": "ipython3",
   "version": "3.8.12"
  }
 },
 "nbformat": 4,
 "nbformat_minor": 5
}
