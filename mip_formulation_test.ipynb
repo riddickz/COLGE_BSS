{
 "cells": [
  {
   "cell_type": "code",
   "execution_count": 1,
   "id": "ceac7c59",
   "metadata": {},
   "outputs": [],
   "source": [
    "import numpy as np\n",
    "import gurobipy as gp\n",
    "\n",
    "from graph import Graph\n",
    "from bssrp_mip import BSSRPMIP\n",
    "from scipy.spatial.distance import pdist, squareform"
   ]
  },
  {
   "cell_type": "markdown",
   "id": "8cb3319e",
   "metadata": {},
   "source": [
    "### Generate Graph"
   ]
  },
  {
   "cell_type": "code",
   "execution_count": 2,
   "id": "9134a5a3",
   "metadata": {},
   "outputs": [],
   "source": [
    "seed = 1234"
   ]
  },
  {
   "cell_type": "code",
   "execution_count": 3,
   "id": "ebc80c78",
   "metadata": {},
   "outputs": [],
   "source": [
    "num_nodes = 20\n",
    "num_vehicles = 3\n",
    "time_limit = 60\n",
    "\n",
    "penalty_cost_demand = 1 # NOT NEEDED IN MILP FORMULATION\n",
    "penalty_cost_time = 1 # NOT NEEDED IN MILP FORMULATION\n",
    "\n",
    "speed = 30 "
   ]
  },
  {
   "cell_type": "code",
   "execution_count": 4,
   "id": "9ffef99d",
   "metadata": {},
   "outputs": [],
   "source": [
    "g = Graph(\n",
    "        num_nodes = num_nodes, \n",
    "        k_nn = 2, \n",
    "        num_vehicles = num_vehicles,\n",
    "        penalty_cost_demand = penalty_cost_demand,\n",
    "        penalty_cost_time = penalty_cost_time, \n",
    "        speed = speed,\n",
    "        time_limit = time_limit)"
   ]
  },
  {
   "cell_type": "code",
   "execution_count": 5,
   "id": "5cfca29b",
   "metadata": {},
   "outputs": [],
   "source": [
    "g.seed(seed)"
   ]
  },
  {
   "cell_type": "code",
   "execution_count": 6,
   "id": "62ee1c84",
   "metadata": {},
   "outputs": [],
   "source": [
    "g.bss_graph_gen()"
   ]
  },
  {
   "cell_type": "markdown",
   "id": "fc86cd72",
   "metadata": {},
   "source": [
    "### Initialize MIP"
   ]
  },
  {
   "cell_type": "code",
   "execution_count": 7,
   "id": "d5411635",
   "metadata": {},
   "outputs": [
    {
     "name": "stdout",
     "output_type": "stream",
     "text": [
      "Set parameter Username\n",
      "Academic license - for non-commercial use only - expires 2022-01-14\n",
      "Set parameter TimeLimit to value 100000\n"
     ]
    }
   ],
   "source": [
    "mip = BSSRPMIP(g)"
   ]
  },
  {
   "cell_type": "code",
   "execution_count": 8,
   "id": "22f90dc2",
   "metadata": {},
   "outputs": [
    {
     "name": "stdout",
     "output_type": "stream",
     "text": [
      "Gurobi Optimizer version 9.5.0 build v9.5.0rc5 (linux64)\n",
      "Thread count: 8 physical cores, 16 logical processors, using up to 16 threads\n",
      "Optimize a model with 2594 rows, 3477 columns and 12711 nonzeros\n",
      "Model fingerprint: 0xa642fb98\n",
      "Variable types: 0 continuous, 3477 integer (1197 binary)\n",
      "Coefficient statistics:\n",
      "  Matrix range     [4e-01, 2e+01]\n",
      "  Objective range  [4e-01, 2e+01]\n",
      "  Bounds range     [1e+00, 1e+00]\n",
      "  RHS range        [1e+00, 6e+01]\n",
      "Presolve removed 114 rows and 57 columns\n",
      "Presolve time: 0.01s\n",
      "Presolved: 2480 rows, 3420 columns, 12483 nonzeros\n",
      "Variable types: 0 continuous, 3420 integer (1197 binary)\n",
      "\n",
      "Root relaxation: objective 7.056093e+01, 4589 iterations, 0.19 seconds (0.26 work units)\n",
      "\n",
      "    Nodes    |    Current Node    |     Objective Bounds      |     Work\n",
      " Expl Unexpl |  Obj  Depth IntInf | Incumbent    BestBd   Gap | It/Node Time\n",
      "\n",
      "     0     0   70.56093    0  143          -   70.56093      -     -    0s\n",
      "     0     0   70.56461    0  202          -   70.56461      -     -    0s\n",
      "     0     0   70.71808    0  258          -   70.71808      -     -    0s\n",
      "     0     0   70.72749    0  270          -   70.72749      -     -    0s\n",
      "     0     0   73.10076    0  247          -   73.10076      -     -    0s\n",
      "     0     0   73.17770    0  252          -   73.17770      -     -    0s\n",
      "     0     0   73.19387    0  238          -   73.19387      -     -    0s\n",
      "     0     0   73.19387    0  243          -   73.19387      -     -    0s\n",
      "     0     0   73.47798    0  269          -   73.47798      -     -    1s\n",
      "     0     0   73.50269    0  337          -   73.50269      -     -    1s\n",
      "     0     0   73.50269    0  283          -   73.50269      -     -    1s\n",
      "     0     0   73.98433    0  384          -   73.98433      -     -    1s\n",
      "     0     0   74.05995    0  391          -   74.05995      -     -    1s\n",
      "     0     0   74.06161    0  336          -   74.06161      -     -    1s\n",
      "     0     0   74.06176    0  339          -   74.06176      -     -    1s\n",
      "     0     0   74.17298    0  290          -   74.17298      -     -    1s\n",
      "     0     0   74.18319    0  274          -   74.18319      -     -    1s\n",
      "     0     0   74.18349    0  277          -   74.18349      -     -    1s\n",
      "     0     0   74.31879    0  413          -   74.31879      -     -    1s\n",
      "     0     0   74.32544    0  420          -   74.32544      -     -    1s\n",
      "     0     0   74.33170    0  434          -   74.33170      -     -    1s\n",
      "     0     0   74.33170    0  439          -   74.33170      -     -    1s\n",
      "     0     0   74.42297    0  414          -   74.42297      -     -    1s\n",
      "     0     0   74.43105    0  432          -   74.43105      -     -    1s\n",
      "     0     0   74.43848    0  438          -   74.43848      -     -    1s\n",
      "     0     0   74.43888    0  439          -   74.43888      -     -    1s\n",
      "     0     0   74.53512    0  401          -   74.53512      -     -    1s\n",
      "     0     0   74.63488    0  406          -   74.63488      -     -    1s\n",
      "     0     0   74.63601    0  425          -   74.63601      -     -    1s\n",
      "     0     0   74.72001    0  403          -   74.72001      -     -    1s\n",
      "     0     0   74.73549    0  419          -   74.73549      -     -    1s\n",
      "     0     0   74.76116    0  434          -   74.76116      -     -    1s\n",
      "     0     0   74.76116    0  445          -   74.76116      -     -    1s\n",
      "     0     0   74.81139    0  397          -   74.81139      -     -    1s\n",
      "     0     0   74.83466    0  420          -   74.83466      -     -    1s\n",
      "     0     0   74.83552    0  418          -   74.83552      -     -    1s\n",
      "     0     0   74.86826    0  441          -   74.86826      -     -    1s\n",
      "     0     0   74.86826    0  465          -   74.86826      -     -    1s\n",
      "     0     0   74.89575    0  432          -   74.89575      -     -    1s\n",
      "     0     0   74.90691    0  427          -   74.90691      -     -    1s\n",
      "     0     0   74.90764    0  441          -   74.90764      -     -    1s\n",
      "     0     0   74.93475    0  440          -   74.93475      -     -    1s\n",
      "     0     0   74.93815    0  445          -   74.93815      -     -    2s\n",
      "     0     0   74.93854    0  458          -   74.93854      -     -    2s\n",
      "     0     0   74.94618    0  423          -   74.94618      -     -    2s\n",
      "     0     0   74.95014    0  434          -   74.95014      -     -    2s\n",
      "     0     0   74.95135    0  445          -   74.95135      -     -    2s\n",
      "     0     0   74.98077    0  435          -   74.98077      -     -    2s\n",
      "     0     0   74.98082    0  446          -   74.98082      -     -    2s\n",
      "     0     0   75.02432    0  415          -   75.02432      -     -    2s\n",
      "     0     0   75.02915    0  427          -   75.02915      -     -    2s\n",
      "     0     0   75.02915    0  435          -   75.02915      -     -    2s\n",
      "     0     0   75.05159    0  434          -   75.05159      -     -    2s\n",
      "     0     0   75.05317    0  448          -   75.05317      -     -    2s\n",
      "     0     0   75.06309    0  428          -   75.06309      -     -    2s\n",
      "H    0     0                     165.7743017   75.06309  54.7%     -    2s\n",
      "     0     0   75.06309    0  380  165.77430   75.06309  54.7%     -    2s\n",
      "H    0     0                     151.7823243   75.06309  50.5%     -    2s\n",
      "     0     2   75.06309    0  372  151.78232   75.06309  50.5%     -    2s\n",
      "H   29    32                     142.4150082   76.57129  46.2%   506    3s\n",
      "H   30    32                     120.7951099   76.57129  36.6%   507    3s\n",
      "H   31    32                     100.8947968   76.57129  24.1%   504    3s\n",
      "H   35    32                      90.8236772   76.71965  15.5%   530    3s\n",
      "H  156   129                      90.3259410   76.71965  15.1%   269    4s\n",
      "   331   289   85.08124   35  251   90.32594   76.71965  15.1%   181    5s\n",
      "  1499  1032   82.61676   27  423   90.32594   79.42624  12.1%   114   10s\n",
      "  1714  1141   85.06119   25  141   90.32594   79.51953  12.0%   148   15s\n",
      "  3876  1301   89.59160   27  198   90.32594   81.97819  9.24%   127   20s\n",
      "  6872  2074   88.66159   38  112   90.32594   84.08406  6.91%   110   28s\n",
      "  8276  2419   87.17414   26  242   90.32594   84.62797  6.31%   105   30s\n",
      " 12756  1183     cutoff   31        90.32594   87.02193  3.66%   101   35s\n",
      "\n",
      "Cutting planes:\n",
      "  Gomory: 4\n",
      "  Cover: 23\n",
      "  Implied bound: 198\n",
      "  Projected implied bound: 1\n",
      "  Clique: 1\n",
      "  MIR: 179\n",
      "  StrongCG: 6\n",
      "  Flow cover: 296\n",
      "  Inf proof: 1\n",
      "  Zero half: 5\n",
      "  Network: 12\n",
      "  Relax-and-lift: 21\n",
      "\n",
      "Explored 15429 nodes (1440805 simplex iterations) in 36.98 seconds (52.37 work units)\n",
      "Thread count was 16 (of 16 available processors)\n",
      "\n",
      "Solution count 7: 90.3259 90.8237 100.895 ... 165.774\n",
      "\n",
      "Optimal solution found (tolerance 1.00e-04)\n",
      "Best objective 9.032594101252e+01, best bound 9.032594101252e+01, gap 0.0000%\n"
     ]
    }
   ],
   "source": [
    "mip.optimize()"
   ]
  },
  {
   "cell_type": "code",
   "execution_count": 9,
   "id": "27b413c6",
   "metadata": {},
   "outputs": [
    {
     "data": {
      "text/plain": [
       "{0: [0, 3, 18, 19, 9, 4, 12, 15, 17, 6, 1, 13, 0],\n",
       " 1: [],\n",
       " 2: [0, 14, 10, 7, 5, 2, 16, 8, 11, 0]}"
      ]
     },
     "execution_count": 9,
     "metadata": {},
     "output_type": "execute_result"
    }
   ],
   "source": [
    "mip.get_routes()"
   ]
  },
  {
   "cell_type": "code",
   "execution_count": 10,
   "id": "91bb1089",
   "metadata": {},
   "outputs": [
    {
     "name": "stdout",
     "output_type": "stream",
     "text": [
      "Vehicle 0:\n",
      "    Route: [0, 3, 18, 19, 9, 4, 12, 15, 17, 6, 1, 13, 0]\n",
      "    Cost: 48.503249408498455 \n",
      "\n",
      "Vehicle 1:\n",
      "    Route: []\n",
      "    Cost: 0 \n",
      "\n",
      "Vehicle 2:\n",
      "    Route: [0, 14, 10, 7, 5, 2, 16, 8, 11, 0]\n",
      "    Cost: 41.82269160401945 \n",
      "\n"
     ]
    }
   ],
   "source": [
    "mip.print_routes()"
   ]
  },
  {
   "cell_type": "code",
   "execution_count": null,
   "id": "61ffd1e4",
   "metadata": {},
   "outputs": [],
   "source": []
  }
 ],
 "metadata": {
  "kernelspec": {
   "display_name": "Python 3 (ipykernel)",
   "language": "python",
   "name": "python3"
  },
  "language_info": {
   "codemirror_mode": {
    "name": "ipython",
    "version": 3
   },
   "file_extension": ".py",
   "mimetype": "text/x-python",
   "name": "python",
   "nbconvert_exporter": "python",
   "pygments_lexer": "ipython3",
   "version": "3.8.12"
  }
 },
 "nbformat": 4,
 "nbformat_minor": 5
}
